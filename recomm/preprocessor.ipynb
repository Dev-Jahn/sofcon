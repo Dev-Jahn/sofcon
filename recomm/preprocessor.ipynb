{
 "cells": [
  {
   "cell_type": "code",
   "execution_count": 6,
   "metadata": {},
   "outputs": [],
   "source": [
    "import pandas as pd\n",
    "import re\n",
    "def unicode(match):\n",
    "    match = match.group()\n",
    "    return chr(int(match[2:], base=16))\n",
    "list_csv = ['data/kor/attraction_review',\n",
    "            'data/kor/hotel_review',\n",
    "            'data/kor/restaurant_review',\n",
    "            'data/eng/eng_attraction_review',\n",
    "            'data/eng/eng_hotel_review',\n",
    "            'data/eng/eng_restaurant_review']"
   ]
  },
  {
   "cell_type": "code",
   "execution_count": 7,
   "metadata": {
    "scrolled": true
   },
   "outputs": [
    {
     "name": "stdout",
     "output_type": "stream",
     "text": [
      "In 'userId' column\n",
      "na 0 개 공백 25 개\n",
      "na 0 개 공백 2 개\n",
      "na 7120 개 공백 0 개\n",
      "na 934 개 공백 0 개\n",
      "na 0 개 공백 4 개\n",
      "na 2730 개 공백 0 개\n"
     ]
    }
   ],
   "source": [
    "print('In \\'userId\\' column')\n",
    "for csv in list_csv:\n",
    "    df = pd.read_csv(csv+'.csv',\n",
    "                         names=['placeId','userId','score','title','review'],\n",
    "                         encoding='euc-kr')\n",
    "    print('na',len(df[df['userId'].isna()]),'개 ',end='')\n",
    "    count = 0\n",
    "    for i in df['userId']:\n",
    "        if not pd.isna(i) and (re.fullmatch(r'^ *$', i) != None):\n",
    "            count+=1\n",
    "    print('공백', count,'개')"
   ]
  },
  {
   "cell_type": "code",
   "execution_count": 8,
   "metadata": {},
   "outputs": [
    {
     "name": "stdout",
     "output_type": "stream",
     "text": [
      "25 entries droped in  data/kor/attraction_review\n",
      "2 entries droped in  data/kor/hotel_review\n",
      "7120 entries droped in  data/kor/restaurant_review\n",
      "934 entries droped in  data/eng/eng_attraction_review\n",
      "4 entries droped in  data/eng/eng_hotel_review\n",
      "2730 entries droped in  data/eng/eng_restaurant_review\n"
     ]
    }
   ],
   "source": [
    "##For user-based CF\n",
    "for csv in list_csv:\n",
    "    df_raw = pd.read_csv(csv+'.csv',\n",
    "                         names=['placeId','userId','score','title','review'],\n",
    "                         encoding='ms949')\n",
    "    df_raw = df_raw.drop(df_raw.columns[3:],axis=1)\n",
    "#replace space to NaN when cell only have space\n",
    "    df_raw['placeId'] = df_raw['placeId'].replace('^ *$', float('nan'), regex=True)\n",
    "    df_raw['userId'] = df_raw['userId'].replace('^ *$', float('nan'), regex=True)\n",
    "    df_raw['score'] = df_raw['score'].replace('^ *$', float('nan'), regex=True)\n",
    "#drop rows with NaN in placeId, userId, score\n",
    "    before = len(df_raw)\n",
    "    df_raw = df_raw.dropna(subset=['placeId','userId','score'])\n",
    "    after = len(df_raw)\n",
    "    print(before - after, 'entries droped in ', csv)\n",
    "    df_raw = df_raw.sort_values(by=['userId']) \n",
    "#rescale score as 1~5\n",
    "    df_raw['score'] = df_raw['score']/10\n",
    "    df_raw['score'] = df_raw['score'].apply(int)\n",
    "#unicode replacement\n",
    "    for i in df_raw['userId']:\n",
    "        i = re.sub(r'\\\\u[0-9a-f]{4}', unicode, i)\n",
    "    df_raw['userId'] = df_raw['userId'].apply(lambda x:\n",
    "    re.sub(r'\\\\u[0-9a-f]{4}', unicode, x))\n",
    "#reset index and save\n",
    "    df = df_raw.reset_index(drop=True)\n",
    "    df.to_csv(csv+'_user.csv',mode='w',index=False)"
   ]
  },
  {
   "cell_type": "code",
   "execution_count": 9,
   "metadata": {},
   "outputs": [
    {
     "name": "stdout",
     "output_type": "stream",
     "text": [
      "0 entries droped in  data/kor/attraction_review\n",
      "0 entries droped in  data/kor/hotel_review\n",
      "25 entries droped in  data/kor/restaurant_review\n",
      "15 entries droped in  data/eng/eng_attraction_review\n",
      "8 entries droped in  data/eng/eng_hotel_review\n",
      "37 entries droped in  data/eng/eng_restaurant_review\n"
     ]
    }
   ],
   "source": [
    "#0,0,25,15,8,37\n",
    "##For tag-based CF\n",
    "for csv in list_csv:\n",
    "    df_raw = pd.read_csv(csv+'.csv',\n",
    "                         names=['placeId','userId','score','title','review'],\n",
    "                         encoding='ms949')\n",
    "    df_raw = df_raw.drop(columns=['userId'])\n",
    "#replace NaN in title and review to blank string\n",
    "    df_raw['title'].fillna('', inplace=True)\n",
    "    df_raw['review'].fillna('', inplace=True)\n",
    "#merge title into review\n",
    "    df_raw['review'] = df_raw.title + ' ' + df_raw['review']\n",
    "    df_raw = df_raw.drop(columns=['title'])\n",
    "#replace space to NaN when cell only have space\n",
    "    df_raw['placeId'] = df_raw['placeId'].replace('^ *$', float('nan'), regex=True)\n",
    "    df_raw['review'] = df_raw['review'].replace('^ *$', float('nan'), regex=True)\n",
    "    df_raw['score'] = df_raw['score'].replace('^ *$', float('nan'), regex=True)\n",
    "#drop rows with NaN in placeId, review, score\n",
    "    before = len(df_raw)\n",
    "    df_raw = df_raw.dropna(subset=['placeId','review','score'])\n",
    "    after = len(df_raw)\n",
    "    print(before - after, 'entries droped in ', csv)\n",
    "    df_raw = df_raw.sort_values(by=['placeId']) \n",
    "#replace html tags and misinterpreted characters\n",
    "    df_raw['review'] = df_raw['review'].apply(lambda x: re.sub(r'<br/>|\\\\n',' ',x))\n",
    "    df_raw['review'] = df_raw['review'].apply(lambda x: re.sub(r'&#39;','\\'',x))\n",
    "    df_raw['review'] = df_raw['review'].apply(lambda x: re.sub(r'&quot;','\\'',x))\n",
    "    df_raw['review'] = df_raw['review'].apply(lambda x: re.sub(r'&amp;',' and ',x))\n",
    "    df_raw['review'] = df_raw['review'].apply(lambda x: re.sub(r'&gt;','',x))\n",
    "    df_raw['review'] = df_raw['review'].apply(lambda x: re.sub(r'&lt;','',x))\n",
    "    df_raw['review'] = df_raw['review'].apply(lambda x: re.sub(r'\\';','\\'',x))\n",
    "#replace multiple spaces into one\n",
    "    df_raw['review'] = df_raw['review'].apply(lambda x: re.sub(' +',' ',x))\n",
    "#rescale score as 1~5\n",
    "    df_raw['score'] = df_raw['score']/10\n",
    "    df_raw['score'] = df_raw['score'].apply(int)\n",
    "#unicode replacement\n",
    "    for i in df_raw['review']:\n",
    "        i = re.sub(r'\\\\u[0-9a-f]{4}', unicode, i)\n",
    "    df_raw['review'] = df_raw['review'].apply(lambda x:\n",
    "    re.sub(r'\\\\u[0-9a-f]{4}', unicode, x))\n",
    "#reset index and save\n",
    "    df_raw = df_raw.reset_index(drop=True)\n",
    "    df_raw.to_csv(csv+'_tag.csv',mode='w')"
   ]
  },
  {
   "cell_type": "code",
   "execution_count": null,
   "metadata": {},
   "outputs": [],
   "source": []
  }
 ],
 "metadata": {
  "kernelspec": {
   "display_name": "Python 3",
   "language": "python",
   "name": "python3"
  },
  "language_info": {
   "codemirror_mode": {
    "name": "ipython",
    "version": 3
   },
   "file_extension": ".py",
   "mimetype": "text/x-python",
   "name": "python",
   "nbconvert_exporter": "python",
   "pygments_lexer": "ipython3",
   "version": "3.6.5"
  }
 },
 "nbformat": 4,
 "nbformat_minor": 2
}
