{
 "cells": [
  {
   "cell_type": "code",
   "execution_count": 145,
   "metadata": {},
   "outputs": [],
   "source": [
    "import pandas as pd\n",
    "import re"
   ]
  },
  {
   "cell_type": "code",
   "execution_count": 146,
   "metadata": {},
   "outputs": [],
   "source": [
    "df_raw = pd.read_csv('data/kor/attraction_review.csv',\n",
    "                     names=['placeId','userId','score','title','review'],\n",
    "                     encoding='ms949')\n",
    "df_raw = df_raw.drop(df_raw.columns[5:],axis=1)\n",
    "df_raw = df_raw.dropna()\n",
    "df_raw.score = df_raw.score/10\n",
    "df_raw.score = df_raw.score.apply(int)\n",
    "df_raw.review = df_raw.title + ' ' + df_raw.review\n",
    "df_raw = df_raw.drop(columns=['title'])\n",
    "df_raw.review = df_raw.review.apply(lambda x: re.sub('(<br/>|[ ]+)',' ',x))\n",
    "df_raw = df_raw.reset_index(drop=True)\n",
    "df_raw.to_csv('data/kor/attraction_review_pp.csv',mode='w')"
   ]
  },
  {
   "cell_type": "code",
   "execution_count": 147,
   "metadata": {},
   "outputs": [],
   "source": [
    "df_raw = pd.read_csv('data/kor/hotel_review.csv',\n",
    "                     names=['placeId','userId','score','title','review'],\n",
    "                     encoding='ms949')\n",
    "df_raw = df_raw.drop(df_raw.columns[5:],axis=1)\n",
    "df_raw = df_raw.dropna()\n",
    "df_raw.score = df_raw.score/10\n",
    "df_raw.score = df_raw.score.apply(int)\n",
    "df_raw.review = df_raw.title + ' ' + df_raw.review\n",
    "df_raw = df_raw.drop(columns=['title'])\n",
    "df_raw.review = df_raw.review.apply(lambda x: re.sub('(<br/>|[ ]+)',' ',x))\n",
    "df_raw = df_raw.reset_index(drop=True)\n",
    "df_raw.to_csv('data/kor/hotel_review_pp.csv',mode='w')"
   ]
  },
  {
   "cell_type": "code",
   "execution_count": 148,
   "metadata": {},
   "outputs": [],
   "source": [
    "df_raw = pd.read_csv('data/kor/restaurant_review.csv',\n",
    "                     names=['placeId','userId','score','title','review'],\n",
    "                    encoding='ms949')\n",
    "df_raw = df_raw.drop(df_raw.columns[5:],axis=1)\n",
    "df_raw = df_raw.dropna()\n",
    "df_raw.score = df_raw.score/10\n",
    "df_raw.score = df_raw.score.apply(int)\n",
    "df_raw.review = df_raw.title + ' ' + df_raw.review\n",
    "df_raw = df_raw.drop(columns=['title'])\n",
    "df_raw.review = df_raw.review.apply(lambda x: re.sub('(<br/>|[ ]+)',' ',x))\n",
    "#유니코드 replace\n",
    "def unicode(match):\n",
    "    match = match.group()\n",
    "    return chr(int(match[2:], base=16))\n",
    "for i in df_raw.userId:\n",
    "    i = re.sub(r'\\\\u[0-9a-f]{4}', unicode, i)\n",
    "df_raw.userId = df_raw.userId.apply(lambda x:\n",
    "                    re.sub(r'\\\\u[0-9a-f]{4}',\n",
    "                           unicode, x))\n",
    "df_raw = df_raw.reset_index(drop=True)\n",
    "df_raw.to_csv('data/kor/restaurant_review_pp.csv',mode='w')"
   ]
  }
 ],
 "metadata": {
  "kernelspec": {
   "display_name": "Python 3",
   "language": "python",
   "name": "python3"
  },
  "language_info": {
   "codemirror_mode": {
    "name": "ipython",
    "version": 3
   },
   "file_extension": ".py",
   "mimetype": "text/x-python",
   "name": "python",
   "nbconvert_exporter": "python",
   "pygments_lexer": "ipython3",
   "version": "3.6.4"
  }
 },
 "nbformat": 4,
 "nbformat_minor": 2
}
