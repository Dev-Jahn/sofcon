{
 "cells": [
  {
   "cell_type": "code",
   "execution_count": 7,
   "metadata": {},
   "outputs": [],
   "source": [
    "import pandas as pd\n",
    "import re"
   ]
  },
  {
   "cell_type": "code",
   "execution_count": 8,
   "metadata": {},
   "outputs": [],
   "source": [
    "df_raw = pd.read_csv('data/kor/attraction_review.csv', names=['placeId','userId','score','title','review'],encoding='ms949')\n",
    "df_raw = df_raw.drop(df_raw.columns[5:],axis=1)\n",
    "df_raw = df_raw.dropna()\n",
    "df_raw['score'] = df_raw['score']/10\n",
    "df_raw['score'] = df_raw['score'].apply(int)\n",
    "df_raw['review'] = df_raw['review'].apply(lambda x: re.sub('<br/>',' ',x))\n",
    "df_raw = df_raw.reset_index(drop=True)\n",
    "df_raw.to_csv('data/kor/attraction_review_pp.csv',mode='w')"
   ]
  },
  {
   "cell_type": "code",
   "execution_count": 9,
   "metadata": {},
   "outputs": [],
   "source": [
    "df_raw = pd.read_csv('data/kor/hotel_review.csv', names=['placeId','userId','score','title','review'],encoding='ms949')\n",
    "df_raw = df_raw.drop(df_raw.columns[5:],axis=1)\n",
    "df_raw = df_raw.dropna()\n",
    "df_raw['score'] = df_raw['score']/10\n",
    "df_raw['score'] = df_raw['score'].apply(int)\n",
    "df_raw['review'] = df_raw['review'].apply(lambda x: re.sub('<br/>',' ',x))\n",
    "df_raw = df_raw.reset_index(drop=True)\n",
    "df_raw.to_csv('data/kor/hotel_review_pp.csv',mode='w')"
   ]
  },
  {
   "cell_type": "code",
   "execution_count": 11,
   "metadata": {},
   "outputs": [],
   "source": [
    "df_raw = pd.read_csv('data/kor/restaurant_review.csv', names=['placeId','userId','score','title','review'],encoding='ms949')\n",
    "df_raw = df_raw.drop(df_raw.columns[5:],axis=1)\n",
    "df_raw = df_raw.dropna()\n",
    "df_raw['score'] = df_raw['score']/10\n",
    "df_raw['score'] = df_raw['score'].apply(int)\n",
    "df_raw['review'] = df_raw['review'].apply(lambda x: re.sub('<br/>',' ',x))\n",
    "df_raw = df_raw.reset_index(drop=True)\n",
    "df_raw.to_csv('data/kor/restaurant_review.csv',mode='w')"
   ]
  },
  {
   "cell_type": "code",
   "execution_count": null,
   "metadata": {},
   "outputs": [],
   "source": []
  }
 ],
 "metadata": {
  "kernelspec": {
   "display_name": "Python 3",
   "language": "python",
   "name": "python3"
  },
  "language_info": {
   "codemirror_mode": {
    "name": "ipython",
    "version": 3
   },
   "file_extension": ".py",
   "mimetype": "text/x-python",
   "name": "python",
   "nbconvert_exporter": "python",
   "pygments_lexer": "ipython3",
   "version": "3.6.4"
  }
 },
 "nbformat": 4,
 "nbformat_minor": 2
}
