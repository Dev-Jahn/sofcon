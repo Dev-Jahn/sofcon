{
 "cells": [
  {
   "cell_type": "code",
   "execution_count": 3,
   "metadata": {},
   "outputs": [],
   "source": [
    "import pandas as pd\n",
    "import re"
   ]
  },
  {
   "cell_type": "code",
   "execution_count": 4,
   "metadata": {},
   "outputs": [],
   "source": [
    "list_csv = ['data/kor/attraction_review',\n",
    "            'data/kor/hotel_review',\n",
    "            'data/kor/restaurant_review',\n",
    "            'data/eng/eng_attraction_review',\n",
    "            'data/eng/eng_hotel_review',\n",
    "            'data/eng/eng_restaurant_review']"
   ]
  },
  {
   "cell_type": "code",
   "execution_count": 57,
   "metadata": {
    "scrolled": false
   },
   "outputs": [
    {
     "name": "stdout",
     "output_type": "stream",
     "text": [
      "na 0 개 공백 25 개\n",
      "na 0 개 공백 2 개\n",
      "na 7120 개 공백 0 개\n",
      "na 934 개 공백 0 개\n",
      "na 0 개 공백 4 개\n",
      "na 2730 개 공백 0 개\n"
     ]
    }
   ],
   "source": [
    "for csv in list_csv:\n",
    "    df = pd.read_csv(csv+'.csv',\n",
    "                         names=['placeId','userId','score','title','review'],\n",
    "                         encoding='euc-kr')\n",
    "    print('na',len(df[df.userId.isna()]),'개 ',end='')\n",
    "    count = 0\n",
    "    for i in df.userId:\n",
    "        if not pd.isna(i) and (re.fullmatch(r' +', i) != None):\n",
    "            count+=1\n",
    "    print('공백', count,'개')"
   ]
  },
  {
   "cell_type": "code",
   "execution_count": 5,
   "metadata": {},
   "outputs": [],
   "source": [
    "def unicode(match):\n",
    "        match = match.group()\n",
    "        return chr(int(match[2:], base=16))"
   ]
  },
  {
   "cell_type": "code",
   "execution_count": 8,
   "metadata": {},
   "outputs": [
    {
     "name": "stdout",
     "output_type": "stream",
     "text": [
      "36 entries droped in  data/kor/attraction_review\n",
      "3 entries droped in  data/kor/hotel_review\n",
      "20828 entries droped in  data/kor/restaurant_review\n",
      "1319 entries droped in  data/eng/eng_attraction_review\n",
      "815 entries droped in  data/eng/eng_hotel_review\n",
      "21491 entries droped in  data/eng/eng_restaurant_review\n"
     ]
    }
   ],
   "source": [
    "##For user-based\n",
    "for csv in list_csv:\n",
    "    df_raw = pd.read_csv(csv+'.csv',\n",
    "                         names=['placeId','userId','score','title','review'],\n",
    "                         encoding='ms949')\n",
    "    df_raw = df_raw.drop(df_raw.columns[5:],axis=1)\n",
    "#drop rows with NaN in user\n",
    "    before = len(df_raw)\n",
    "    df_raw = df_raw.dropna()\n",
    "    df_raw = df_raw.drop(df_raw.columns[0], axis=1)\n",
    "    df_raw.review = df_raw.review.apply(lambda x: re.sub('(<br/>|[ ]+)',' ',x))\n",
    "    df_raw = df_raw[df_raw.userId.str.match(' ')==False]\n",
    "    after = len(df_raw)\n",
    "    print(before - after, 'entries droped in ', csv)\n",
    "    df_raw = df_raw.sort_values(by=['userId']) \n",
    "# \n",
    "    df_raw.score = df_raw.score/10\n",
    "    df_raw.score = df_raw.score.apply(int)\n",
    "#merge title into review\n",
    "    df_raw.review = df_raw.title + ' ' + df_raw.review\n",
    "    df_raw = df_raw.drop(columns=['title'])\n",
    "# unicode replace #\n",
    "    \n",
    "    for i in df_raw.userId:\n",
    "        i = re.sub(r'\\\\u[0-9a-f]{4}', unicode, i)\n",
    "    df_raw.userId = df_raw.userId.apply(lambda x:\n",
    "    re.sub(r'\\\\u[0-9a-f]{4}', unicode, x))\n",
    "###################\n",
    "    df = df_raw.reset_index(drop=True)\n",
    "    df.to_csv(csv+'_user.csv',mode='w')"
   ]
  },
  {
   "cell_type": "code",
   "execution_count": 8,
   "metadata": {},
   "outputs": [
    {
     "name": "stdout",
     "output_type": "stream",
     "text": [
      "36 entries droped in  data/kor/attraction_review\n",
      "3 entries droped in  data/kor/hotel_review\n",
      "20828 entries droped in  data/kor/restaurant_review\n",
      "1319 entries droped in  data/eng/eng_attraction_review\n",
      "815 entries droped in  data/eng/eng_hotel_review\n",
      "21491 entries droped in  data/eng/eng_restaurant_review\n"
     ]
    }
   ],
   "source": [
    "##For tag-based\n",
    "for csv in list_csv:\n",
    "    df_raw = pd.read_csv(csv+'.csv',\n",
    "                         names=['placeId','userId','score','title','review'],\n",
    "                         encoding='ms949')\n",
    "    df_raw = df_raw.drop(df_raw.columns[5:],axis=1)\n",
    "#drop rows with NaN in user\n",
    "    before = len(df_raw)\n",
    "    df_raw = df_raw.dropna()\n",
    "    df_raw = df_raw.drop(df_raw.columns[0], axis=1)\n",
    "    df_raw.review = df_raw.review.apply(lambda x: re.sub('(<br/>|[ ]+)',' ',x))\n",
    "    df_raw = df_raw[df_raw.userId.str.match(' ')==False]\n",
    "    after = len(df_raw)\n",
    "    print(before - after, 'entries droped in ', csv)\n",
    "    df_raw = df_raw.sort_values(by=['userId']) \n",
    "# \n",
    "    df_raw.score = df_raw.score/10\n",
    "    df_raw.score = df_raw.score.apply(int)\n",
    "#merge title into review\n",
    "    df_raw.review = df_raw.title + ' ' + df_raw.review\n",
    "    df_raw = df_raw.drop(columns=['title'])\n",
    "# unicode replace #\n",
    "    \n",
    "    for i in df_raw.userId:\n",
    "        i = re.sub(r'\\\\u[0-9a-f]{4}', unicode, i)\n",
    "    df_raw.userId = df_raw.userId.apply(lambda x:\n",
    "    re.sub(r'\\\\u[0-9a-f]{4}', unicode, x))\n",
    "###################\n",
    "    df = df_raw.reset_index(drop=True)\n",
    "    df.to_csv(csv+'_tag.csv',mode='w')"
   ]
  },
  {
   "cell_type": "code",
   "execution_count": null,
   "metadata": {},
   "outputs": [],
   "source": []
  }
 ],
 "metadata": {
  "kernelspec": {
   "display_name": "Python 3",
   "language": "python",
   "name": "python3"
  },
  "language_info": {
   "codemirror_mode": {
    "name": "ipython",
    "version": 3
   },
   "file_extension": ".py",
   "mimetype": "text/x-python",
   "name": "python",
   "nbconvert_exporter": "python",
   "pygments_lexer": "ipython3",
   "version": "3.6.4"
  }
 },
 "nbformat": 4,
 "nbformat_minor": 2
}
