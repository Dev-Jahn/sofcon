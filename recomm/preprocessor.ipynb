{
 "cells": [
  {
   "cell_type": "code",
   "execution_count": 7,
   "metadata": {},
   "outputs": [],
   "source": [
    "import pandas as pd\n",
    "import re"
   ]
  },
  {
   "cell_type": "code",
   "execution_count": 8,
   "metadata": {},
   "outputs": [],
   "source": [
    "list_csv = ['data/kor/attraction_review',\n",
    "            'data/kor/hotel_review',\n",
    "            'data/kor/restaurant_review',\n",
    "            'data/eng/eng_attraction_review',\n",
    "            'data/eng/eng_hotel_review',\n",
    "            'data/eng/eng_restaurant_review']"
   ]
  },
  {
   "cell_type": "code",
   "execution_count": 11,
   "metadata": {},
   "outputs": [],
   "source": [
    "for csv in list_csv:\n",
    "    df_raw = pd.read_csv(csv+'.csv',\n",
    "                         names=['placeId','userId','score','title','review'],\n",
    "                         encoding='ms949')\n",
    "    df_raw = df_raw.drop(df_raw.columns[5:],axis=1)\n",
    "    df_raw = df_raw.dropna()\n",
    "    df_raw.score = df_raw.score/10\n",
    "    df_raw.score = df_raw.score.apply(int)\n",
    "    df_raw.review = df_raw.title + ' ' + df_raw.review\n",
    "    df_raw = df_raw.drop(columns=['title'])\n",
    "    df_raw.review = df_raw.review.apply(lambda x: re.sub('(<br/>|[ ]+)',' ',x))\n",
    "    if csv == 'data/kor/restaurant_review':\n",
    "        df_tmp = df_raw\n",
    "        ## 유니코드 replace ##\n",
    "        def unicode(match):\n",
    "            match = match.group()\n",
    "            return chr(int(match[2:], base=16))\n",
    "        for i in df_raw.userId:\n",
    "            i = re.sub(r'\\\\u[0-9a-f]{4}', unicode, i)\n",
    "        df_raw.userId = df_raw.userId.apply(lambda x:\n",
    "                            re.sub(r'\\\\u[0-9a-f]{4}', unicode, x))\n",
    "        ####\n",
    "    df_raw = df_raw.reset_index(drop=True)\n",
    "    df_raw.to_csv(csv+'_pp.csv',mode='w')"
   ]
  },
  {
   "cell_type": "code",
   "execution_count": 16,
   "metadata": {},
   "outputs": [
    {
     "data": {
      "text/plain": [
       "0        10000530\n",
       "1        10000530\n",
       "2        10000530\n",
       "3        10000553\n",
       "4        10000553\n",
       "5        10000564\n",
       "7        10000599\n",
       "9        10000599\n",
       "11       10000599\n",
       "12       10000599\n",
       "13       10000599\n",
       "14       10000599\n",
       "15       10000599\n",
       "16       10000599\n",
       "18       10000599\n",
       "20       10000599\n",
       "21       10000599\n",
       "22       10000599\n",
       "25       10000599\n",
       "26       10000599\n",
       "27       10000599\n",
       "29       10000599\n",
       "30       10000599\n",
       "31       10000599\n",
       "34       10040756\n",
       "37       10040756\n",
       "38       10040756\n",
       "44       10058560\n",
       "49        1006353\n",
       "50       10063988\n",
       "           ...   \n",
       "73761     9987838\n",
       "73766     9996766\n",
       "73767     9996766\n",
       "73768     9996766\n",
       "73770     9996909\n",
       "73771     9996909\n",
       "73772     9996909\n",
       "73773     9996913\n",
       "73776     9996913\n",
       "73777     9997016\n",
       "73778     9997016\n",
       "73779     9997016\n",
       "73780     9997016\n",
       "73781     9997016\n",
       "73782     9997016\n",
       "73784     9997016\n",
       "73786     9997016\n",
       "73787     9997016\n",
       "73788     9997016\n",
       "73789     9997016\n",
       "73790     9997016\n",
       "73791     9997016\n",
       "73795     9997016\n",
       "73798     9997016\n",
       "73799     9997016\n",
       "73800     9997022\n",
       "73801     9997022\n",
       "73810     9997022\n",
       "73811     9997022\n",
       "73813     9997030\n",
       "Name: placeId, Length: 52991, dtype: int64"
      ]
     },
     "execution_count": 16,
     "metadata": {},
     "output_type": "execute_result"
    }
   ],
   "source": [
    "df_tmp[df_tmp.columns[0]]"
   ]
  },
  {
   "cell_type": "code",
   "execution_count": null,
   "metadata": {},
   "outputs": [],
   "source": []
  }
 ],
 "metadata": {
  "kernelspec": {
   "display_name": "Python 3",
   "language": "python",
   "name": "python3"
  },
  "language_info": {
   "codemirror_mode": {
    "name": "ipython",
    "version": 3
   },
   "file_extension": ".py",
   "mimetype": "text/x-python",
   "name": "python",
   "nbconvert_exporter": "python",
   "pygments_lexer": "ipython3",
   "version": "3.6.5"
  }
 },
 "nbformat": 4,
 "nbformat_minor": 2
}
