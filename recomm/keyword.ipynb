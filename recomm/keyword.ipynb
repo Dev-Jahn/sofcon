{
 "cells": [
  {
   "cell_type": "code",
   "execution_count": 42,
   "metadata": {},
   "outputs": [],
   "source": [
    "import numpy as np\n",
    "import pandas as pd\n",
    "from pandas import *\n",
    "import os\n",
    "import re\n",
    "from keras.preprocessing.text import Tokenizer\n",
    "from keras.preprocessing.text import text_to_word_sequence"
   ]
  },
  {
   "cell_type": "code",
   "execution_count": 65,
   "metadata": {},
   "outputs": [],
   "source": [
    "#preprocess\n",
    "df_raw = pd.read_csv('hotel_review.csv', names=['placeId','userId','score','title','review'],encoding='ms949')\n",
    "df_raw = df_raw.drop(df.columns[5:],axis=1)\n",
    "df_raw = df_raw.dropna()\n",
    "df_raw['score'] = df_raw['score']/10\n",
    "df_raw['score'] = df_raw['score'].apply(int)\n",
    "df_raw['review'] = df_raw['review'].apply(lambda x: re.sub('<br/>',' ',x))\n",
    "df_raw = df_raw.reset_index(drop=True)\n",
    "df_raw.to_csv('hotel_review_pp.csv',mode='w')\n",
    "df = df_raw\n",
    "del df_raw"
   ]
  },
  {
   "cell_type": "code",
   "execution_count": null,
   "metadata": {},
   "outputs": [],
   "source": [
    "text = ''\n",
    "text = text.join([review+'\\n' for review in df['review']])\n",
    "text = re.sub(r'[^ 가-힣0-9\\n]',' ',text)\n",
    "text = re.sub(r' +',' ',text)\n",
    "#형태소 추출"
   ]
  },
  {
   "cell_type": "code",
   "execution_count": null,
   "metadata": {},
   "outputs": [],
   "source": [
    "array = text.split('\\n')[:]"
   ]
  },
  {
   "cell_type": "code",
   "execution_count": null,
   "metadata": {},
   "outputs": [],
   "source": [
    "from konlpy.tag import Mecab\n",
    "mecab = Mecab()\n",
    "tagged = [mecab.pos(sentence) for sentence in array]\n",
    "pattern = re.compile('MM|NNG|VA[+].*|VV[+].*|XR')\n",
    "df_tags = pd.DataFrame(columns = ['score','tags'], dtype = 'int64')\n",
    "taglist = []"
   ]
  },
  {
   "cell_type": "code",
   "execution_count": null,
   "metadata": {},
   "outputs": [],
   "source": [
    "for place in tagged:\n",
    "    tag = np.array(place)\n",
    "    npbool = []\n",
    "    for t in tag:\n",
    "        npbool.append(re.fullmatch(pattern,t[1])!=None)\n",
    "    tag = tag[npbool].tolist()\n",
    "    taglist.append(tag)"
   ]
  },
  {
   "cell_type": "code",
   "execution_count": null,
   "metadata": {},
   "outputs": [],
   "source": [
    "df_tags['tags'] = taglist\n",
    "df_tags['score'] = df['score'].astype('int64')"
   ]
  },
  {
   "cell_type": "code",
   "execution_count": null,
   "metadata": {},
   "outputs": [],
   "source": [
    "corpus = [mecab.morphs(sentence) for sentence in array]"
   ]
  },
  {
   "cell_type": "code",
   "execution_count": 15,
   "metadata": {},
   "outputs": [
    {
     "data": {
      "text/plain": [
       "907272"
      ]
     },
     "execution_count": 15,
     "metadata": {},
     "output_type": "execute_result"
    }
   ],
   "source": [
    "word_count = 0\n",
    "for s in corpus:\n",
    "    word_count += len(s)\n",
    "word_count"
   ]
  }
 ],
 "metadata": {
  "kernelspec": {
   "display_name": "Python 3",
   "language": "python",
   "name": "python3"
  },
  "language_info": {
   "codemirror_mode": {
    "name": "ipython",
    "version": 3
   },
   "file_extension": ".py",
   "mimetype": "text/x-python",
   "name": "python",
   "nbconvert_exporter": "python",
   "pygments_lexer": "ipython3",
   "version": "3.6.4"
  }
 },
 "nbformat": 4,
 "nbformat_minor": 2
}
