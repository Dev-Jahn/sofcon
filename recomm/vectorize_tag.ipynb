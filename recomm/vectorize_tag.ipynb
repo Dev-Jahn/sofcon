{
 "cells": [
  {
   "cell_type": "code",
   "execution_count": null,
   "metadata": {},
   "outputs": [],
   "source": [
    "from gensim.models import Word2Vec\n",
    "import pandas as pd\n",
    "import pickle\n",
    "import time\n",
    "import logging\n",
    "logging.basicConfig(\n",
    "\tformat='%(asctime)s : %(levelname)s : %(message)s',\n",
    "\tlevel=logging.INFO)\n",
    "\n",
    "cores = 8\n",
    "list_corpus = ['corpus/attraction_user.list',\n",
    "               'corpus/hotel_user.list',\n",
    "               'corpus/restaurant_user.list']\n",
    "list_user_model = ['model/attraction_user.model',\n",
    "                   'model/hotel_user.model',\n",
    "                   'model/restaurant_user.model']\n",
    "params_user = [{'size':300, 'window':99999, 'min_count':0,        # Attraction\n",
    "               'workers':cores, 'iter':100, 'sg':1, 'sample':1},\n",
    "               {'size':300, 'window':99999, 'min_count':0,        # Hotel\n",
    "               'workers':cores, 'iter':100, 'sg':1, 'sample':1},\n",
    "               {'size':300, 'window':99999, 'min_count':0,        # Restaurant\n",
    "               'workers':cores, 'iter':100, 'sg':1, 'sample':1}]"
   ]
  },
  {
   "cell_type": "code",
   "execution_count": null,
   "metadata": {},
   "outputs": [],
   "source": [
    "spent = []\n",
    "for i in range(3):\n",
    "    with open(list_corpus[i], 'rb') as f:\n",
    "        corpus = pickle.load(f)\n",
    "    start = time.time()\n",
    "    model = Word2Vec(corpus, **params_user[i])\n",
    "    spent.append('Elapsed time: '+str(time.time() - start)+' sec'+' ['+list_user_model[i]+']')\n",
    "    model.wv.save(list_user_model[i])"
   ]
  }
 ],
 "metadata": {
  "kernelspec": {
   "display_name": "Python 3",
   "language": "python",
   "name": "python3"
  },
  "language_info": {
   "codemirror_mode": {
    "name": "ipython",
    "version": 3
   },
   "file_extension": ".py",
   "mimetype": "text/x-python",
   "name": "python",
   "nbconvert_exporter": "python",
   "pygments_lexer": "ipython3",
   "version": "3.6.5"
  }
 },
 "nbformat": 4,
 "nbformat_minor": 2
}
