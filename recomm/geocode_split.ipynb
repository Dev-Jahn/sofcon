{
 "cells": [
  {
   "cell_type": "code",
   "execution_count": 27,
   "metadata": {},
   "outputs": [],
   "source": [
    "import pandas as pd\n",
    "import re\n",
    "place_path = ['data/attraction_places.csv',\n",
    "            'data/hotel_places.csv',\n",
    "            'data/restaurant_places.csv']\n",
    "ll_path = ['data/attraction_ll.csv',\n",
    "           'data/hotel_ll.csv',\n",
    "           'data/restaurant_ll.csv']\n",
    "address_path = ['data/attraction_address.csv',\n",
    "                'data/hotel_address.csv',\n",
    "                'data/restaurant_address.csv']"
   ]
  },
  {
   "cell_type": "code",
   "execution_count": 30,
   "metadata": {},
   "outputs": [
    {
     "name": "stdout",
     "output_type": "stream",
     "text": [
      "210\n",
      "0\n",
      "4899\n"
     ]
    }
   ],
   "source": [
    "for i in range(3):\n",
    "    df = pd.read_csv(place_path[i])\n",
    "    series_match = df['location'] .apply(lambda x:\n",
    "                                                 re.fullmatch('[0-9]+\\.[0-9]+,[0-9]+\\.[0-9]+', x))\n",
    "    df_ll = df[pd.notnull(series_match)]\n",
    "    df_address = df[pd.isnull(series_match)]\n",
    "    # 저장\n",
    "    df_ll.to_csv(ll_path[i], index=False)\n",
    "    df_address.to_csv(address_path[i], index=False)\n",
    "    print(len(df_address))"
   ]
  }
 ],
 "metadata": {
  "kernelspec": {
   "display_name": "Python 3",
   "language": "python",
   "name": "python3"
  },
  "language_info": {
   "codemirror_mode": {
    "name": "ipython",
    "version": 3
   },
   "file_extension": ".py",
   "mimetype": "text/x-python",
   "name": "python",
   "nbconvert_exporter": "python",
   "pygments_lexer": "ipython3",
   "version": "3.6.4"
  }
 },
 "nbformat": 4,
 "nbformat_minor": 2
}
