{
 "cells": [
  {
   "cell_type": "code",
   "execution_count": 1,
   "metadata": {},
   "outputs": [],
   "source": [
    "from gensim.models import KeyedVectors\n",
    "import pandas as pd\n",
    "import re\n",
    "list_csv = ['data/kor/attraction_places.csv',\n",
    "            'data/kor/hotel_places.csv',\n",
    "            'data/kor/restaurant_places.csv',\n",
    "            'data/eng/eng_attraction_places.csv',\n",
    "            'data/eng/eng_hotel_places.csv',\n",
    "            'data/eng/eng_restaurant_places.csv']\n",
    "review_csv = ['data/kor/attraction_review.csv',\n",
    "              'data/kor/hotel_review.csv',\n",
    "              'data/kor/restaurant_review.csv',\n",
    "              'data/eng/eng_attraction_review.csv',\n",
    "              'data/eng/eng_hotel_review.csv',\n",
    "              'data/eng/eng_restaurant_review.csv']\n",
    "save_csv = ['data/attraction_places.csv',\n",
    "            'data/hotel_places.csv',\n",
    "            'data/restaurant_places.csv']\n",
    "save2_csv = ['data/attraction_dropped.csv',\n",
    "             'data/hotel_dropped.csv',\n",
    "             'data/restaurant_dropped.csv']\n",
    "models = ['model/attraction_tag_e5.model',\n",
    "          'model/attraction_user.model',\n",
    "          'model/hotel_tag_e5.model',\n",
    "          'model/hotel_user.model',\n",
    "          'model/restaurant_tag_e5.model',\n",
    "          'model/restaurant_user.model']"
   ]
  },
  {
   "cell_type": "code",
   "execution_count": 2,
   "metadata": {},
   "outputs": [
    {
     "name": "stderr",
     "output_type": "stream",
     "text": [
      "/home/jahn/anaconda3/lib/python3.6/site-packages/ipykernel_launcher.py:27: FutureWarning: set_value is deprecated and will be removed in a future release. Please use .at[] or .iat[] accessors instead\n"
     ]
    },
    {
     "name": "stdout",
     "output_type": "stream",
     "text": [
      "before drop:  565\n",
      "after  drop:  355\n",
      "\n"
     ]
    },
    {
     "name": "stderr",
     "output_type": "stream",
     "text": [
      "/home/jahn/anaconda3/lib/python3.6/site-packages/ipykernel_launcher.py:29: FutureWarning: set_value is deprecated and will be removed in a future release. Please use .at[] or .iat[] accessors instead\n",
      "/home/jahn/anaconda3/lib/python3.6/site-packages/ipykernel_launcher.py:27: FutureWarning: set_value is deprecated and will be removed in a future release. Please use .at[] or .iat[] accessors instead\n"
     ]
    },
    {
     "name": "stdout",
     "output_type": "stream",
     "text": [
      "before drop:  878\n",
      "after  drop:  878\n",
      "\n",
      "before drop:  23157\n",
      "after  drop:  18258\n",
      "\n"
     ]
    }
   ],
   "source": [
    "for i in range(3):\n",
    "    df_kor = pd.read_csv(list_csv[i],\n",
    "                         names=['placeId', 'name_kor', 'location', 'class'],\n",
    "                         encoding='euc-kr')\n",
    "    tmp_class = df_kor['class'][0]\n",
    "    df_eng = pd.read_csv(list_csv[i+3],\n",
    "                         names=['placeId', 'name_eng', 'location', 'class'],\n",
    "                         encoding='euc-kr')\n",
    "\n",
    "    df_eng = df_eng.iloc[:, [j for j, c in enumerate(df_eng.columns) if j != 4]]\n",
    "    df_eng2 = df_eng.drop(columns=['class'])\n",
    "    df_eng = df_eng.drop(columns=['location', 'class'])\n",
    "\n",
    "    # df_kor, df_eng 병합\n",
    "    df = pd.merge(df_kor, df_eng, how='outer')\n",
    "    cols = df.columns.tolist()\n",
    "    cols = cols[3:4] + cols[0:2] + cols[-1:] + cols[2:3]\n",
    "    df= df[cols]\n",
    "    df['class'] = df['class'].fillna(tmp_class)\n",
    "    # 좌표없는 셀 eng값으로 채우기\n",
    "    df_eng2 = df_eng2.drop(columns=['placeId'])\n",
    "\n",
    "    for index, row in df.iterrows():\n",
    "        if pd.isna(row['location']):\n",
    "            try:\n",
    "                df.set_value(index, 'location',\n",
    "                         df_eng2[df_eng2.name_eng==row['name_eng']]['location'].tolist()[0])\n",
    "            except:\n",
    "                df.set_value(index, 'location', float('nan'))\n",
    "    df = df.dropna(subset=['location'])\n",
    "    # placeId string으로 변환\n",
    "    #df['placeId'] = df.placeId.astype('str')\n",
    "    #점수column 생성\n",
    "    df_kor = pd.read_csv(review_csv[i],\n",
    "                                names=['placeId', 'userId', 'score', 'title', 'review'],\n",
    "                                encoding='euc-kr')\n",
    "    df_kor= df_kor.drop(columns=['userId', 'title', 'review'])\n",
    "    df_kor['score'] = (df_kor['score']/10).astype('int64')\n",
    "    df_eng = pd.read_csv(review_csv[i+3],\n",
    "                                names=['placeId', 'userId', 'score', 'title', 'review'],\n",
    "                                encoding='euc-kr')\n",
    "    df_eng = df_eng.drop(columns=['userId', 'title', 'review'])\n",
    "    df_eng['score'] = (df_eng['score']/10).astype('int64')\n",
    "    df_kor = df_kor.append(df_eng)\n",
    "    df_score = df_kor.groupby(['placeId'],as_index=False).mean()\n",
    "    #df_score['placeId'] = df_score['placeId'].astype('str')\n",
    "    \n",
    "    #점수 column 병합\n",
    "    df = df.merge(df_score, how='inner')\n",
    "    cols = df.columns.tolist()\n",
    "    df = df[cols[0:2]+cols[5:6]+cols[2:5]]\n",
    "\n",
    "    # 테스트용: 좌표 외 drop\n",
    "    df_dropped = df.dropna(subset=['location'])\n",
    "    series_match = df_dropped['location'].apply(lambda x:\n",
    "                                                re.fullmatch('[0-9]+\\.[0-9]+,[0-9]+\\.[0-9]+', x))\n",
    "    df_dropped = df_dropped[pd.notnull(series_match)]\n",
    "\n",
    "    # 좌표 (float,float)형 리스트로 변환\n",
    "    df_location = pd.DataFrame(df_dropped['location'].apply(lambda x:\n",
    "                                                            re.findall('[0-9]+\\.[0-9]+', x)))\n",
    "    df_dropped['latitude'] = df_location['location'].apply(lambda x: x[0])\n",
    "    df_dropped['longitude'] = df_location['location'].apply(lambda x: x[1])\n",
    "    df_dropped = df_dropped.drop(columns=['location'])\n",
    "    # 저장\n",
    "    df.to_csv(save_csv[i], index=False)\n",
    "    df_dropped.to_csv(save2_csv[i], index=False)\n",
    "    print('before drop: ', len(df))\n",
    "    print('after  drop: ', len(df_dropped))\n",
    "    print()"
   ]
  },
  {
   "cell_type": "code",
   "execution_count": 16,
   "metadata": {},
   "outputs": [
    {
     "name": "stdout",
     "output_type": "stream",
     "text": [
      "NA 22\n",
      "좌표 18245\n",
      "주소 4895\n"
     ]
    }
   ],
   "source": [
    "# print('전체',len(df_kor))\n",
    "print('NA',len(df[pd.isna(df['location'])]))\n",
    "df_tmp = df.dropna(subset=['location'])\n",
    "series_match = df_tmp['location'].apply(lambda x:\n",
    "                                        re.fullmatch('[0-9]+\\.[0-9]+,[0-9]+\\.[0-9]+', x))\n",
    "print('좌표',len(df_tmp[pd.notnull(series_match)]))\n",
    "print('주소',len(df_tmp[pd.isnull(series_match)]))"
   ]
  },
  {
   "cell_type": "code",
   "execution_count": null,
   "metadata": {},
   "outputs": [],
   "source": [
    "### attraction_tag  = KeyedVectors.load(models[-1])\n",
    "attraction_user = KeyedVectors.load(models[1])\n",
    "hotel_tag       = KeyedVectors.load(models[2])\n",
    "hotel_user      = KeyedVectors.load(models[3])\n",
    "restaurant_tag  = KeyedVectors.load(models[4])\n",
    "restaurant_user = KeyedVectors.load(models[5])\n",
    "\n",
    "l = [item[0] for item in list(hotel_tag.vocab.items())]\n",
    "\n",
    "'10172901' in l"
   ]
  }
 ],
 "metadata": {
  "kernelspec": {
   "display_name": "Python 3",
   "language": "python",
   "name": "python3"
  },
  "language_info": {
   "codemirror_mode": {
    "name": "ipython",
    "version": 3
   },
   "file_extension": ".py",
   "mimetype": "text/x-python",
   "name": "python",
   "nbconvert_exporter": "python",
   "pygments_lexer": "ipython3",
   "version": "3.6.4"
  }
 },
 "nbformat": 4,
 "nbformat_minor": 2
}
