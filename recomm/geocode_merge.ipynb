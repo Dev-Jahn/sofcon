{
 "cells": [
  {
   "cell_type": "code",
   "execution_count": 95,
   "metadata": {},
   "outputs": [],
   "source": [
    "import pandas as pd\n",
    "import re\n",
    "final_path = ['data/attraction_final.csv',\n",
    "            #'data/hotel_final.csv',\n",
    "            'data/restaurant_final.csv']\n",
    "ll_path = ['data/attraction_ll.csv',\n",
    "           #'data/hotel_ll.csv',\n",
    "           'data/restaurant_ll.csv']\n",
    "coded_path = ['data/attraction_coded.csv',\n",
    "              #'data/hotel_coded.csv',\n",
    "              'data/restaurant_coded.csv']"
   ]
  },
  {
   "cell_type": "code",
   "execution_count": 96,
   "metadata": {},
   "outputs": [
    {
     "name": "stdout",
     "output_type": "stream",
     "text": [
      "병합후 갯수:  547\n",
      "병합후 갯수:  22815\n"
     ]
    }
   ],
   "source": [
    "for i in range(len(final_path)):\n",
    "    # 원래 좌표였던 데이터\n",
    "    df_ll = pd.read_csv(ll_path[i])\n",
    "    df_location = pd.DataFrame(df_ll['location'].apply(lambda x:\n",
    "                                                             re.findall('[0-9]+\\.[0-9]+', x)))\n",
    "    df_ll['latitude'] = df_location['location'].apply(lambda x: x[0])\n",
    "    df_ll['longitude'] = df_location['location'].apply(lambda x: x[1])\n",
    "    df_ll = df_ll.drop(columns=['location'])\n",
    "\n",
    "    # 원래 주소였던 데이터\n",
    "    df_coded = pd.read_csv(coded_path[i], encoding='ms949')\n",
    "    # 정확도 높은 좌표만 사용\n",
    "    df_coded = df_coded[(df_coded.결과=='정좌표')|\n",
    "             (df_coded.결과=='인근좌표')]\n",
    "    df_coded = df_coded.drop(columns=['location', '결과', '지번'])\n",
    "    df_coded.columns =  df_coded.columns.tolist()[0:5]+['longitude','latitude']\n",
    "    cols = df_coded.columns.tolist()\n",
    "    df_coded = df_coded[cols[0:5]+cols[5:7][::-1]]\n",
    "\n",
    "    # 병합\n",
    "    df_final = df_ll.append(df_coded)\n",
    "    print('병합후 갯수: ', len(df_final))\n",
    "    df_final.to_csv(final_path[i], index=False)"
   ]
  },
  {
   "cell_type": "code",
   "execution_count": null,
   "metadata": {},
   "outputs": [],
   "source": []
  }
 ],
 "metadata": {
  "kernelspec": {
   "display_name": "Python 3",
   "language": "python",
   "name": "python3"
  },
  "language_info": {
   "codemirror_mode": {
    "name": "ipython",
    "version": 3
   },
   "file_extension": ".py",
   "mimetype": "text/x-python",
   "name": "python",
   "nbconvert_exporter": "python",
   "pygments_lexer": "ipython3",
   "version": "3.6.4"
  }
 },
 "nbformat": 4,
 "nbformat_minor": 2
}
