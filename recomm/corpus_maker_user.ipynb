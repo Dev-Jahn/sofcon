{
 "cells": [
  {
   "cell_type": "code",
   "execution_count": 6,
   "metadata": {},
   "outputs": [],
   "source": [
    "import numpy as np\n",
    "import pandas as pd\n",
    "from pandas import *\n",
    "import re\n",
    "import pickle\n",
    "import os"
   ]
  },
  {
   "cell_type": "code",
   "execution_count": 7,
   "metadata": {},
   "outputs": [],
   "source": [
    "list_csv = ['data/kor/attraction_review_pp.csv',\n",
    "         'data/kor/hotel_review_pp.csv',\n",
    "         'data/kor/restaurant_review_pp.csv']\n",
    "list_corpus = ['corpus/user-score-based_attraction.list',\n",
    "               'corpus/user-score-based_hotel.list',\n",
    "               'corpus/user-score-based_restaurant.list']\n",
    "try:\n",
    "    os.stat('corpus')\n",
    "except:\n",
    "    os.mkdir('corpus')"
   ]
  },
  {
   "cell_type": "code",
   "execution_count": 9,
   "metadata": {},
   "outputs": [
    {
     "name": "stdout",
     "output_type": "stream",
     "text": [
      "corpus created for  data/kor/attraction_review_pp.csv\n",
      "longest word count in corpus:  72\n",
      "corpus created for  data/kor/hotel_review_pp.csv\n",
      "longest word count in corpus:  73\n",
      "corpus created for  data/kor/restaurant_review_pp.csv\n",
      "longest word count in corpus:  458\n"
     ]
    }
   ],
   "source": [
    "for csv in list_csv:\n",
    "    df_review = pd.read_csv(csv)\n",
    "    userlist = list(set(df_review.userId.tolist()))\n",
    "    userlist.sort()\n",
    "    corpus = []\n",
    "    for name in userlist:\n",
    "        for i in range(1, 6):\n",
    "            user_score = [str(place) for place in\n",
    "                           df_review[(df_review['userId'] == name) &\n",
    "                                     (df_review['score'] == i)].placeId]\n",
    "            if len(user_score)!=0:\n",
    "                corpus.append(user_score)\n",
    "\n",
    "    with open(list_corpus[list_csv.index(list_csv[1])],'wb') as f:\n",
    "        pickle.dump(corpus, f)\n",
    "    print('corpus created for ', csv)\n",
    "    count = 0\n",
    "    for user in corpus:\n",
    "        count = max(count,len(user))\n",
    "    print('longest word count in corpus: ', count)"
   ]
  },
  {
   "cell_type": "code",
   "execution_count": null,
   "metadata": {},
   "outputs": [],
   "source": []
  }
 ],
 "metadata": {
  "kernelspec": {
   "display_name": "Python 3",
   "language": "python",
   "name": "python3"
  },
  "language_info": {
   "codemirror_mode": {
    "name": "ipython",
    "version": 3
   },
   "file_extension": ".py",
   "mimetype": "text/x-python",
   "name": "python",
   "nbconvert_exporter": "python",
   "pygments_lexer": "ipython3",
   "version": "3.6.4"
  }
 },
 "nbformat": 4,
 "nbformat_minor": 2
}
