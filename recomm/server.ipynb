{
 "cells": [
  {
   "cell_type": "code",
   "execution_count": null,
   "metadata": {},
   "outputs": [],
   "source": [
    "import zerorpc\n",
    "from gensim.models import Word2Vec\n",
    "from gensim.models import KeyedVectors \n",
    "list_csv = ['data/attraction_places.csv',\n",
    "            'data/hotel_places.csv',\n",
    "            'data/restaurant_places.csv']\n",
    "models = ['model/attraction_tag_e5.model',\n",
    "          'model/attraction_user.model',\n",
    "          'model/hotel_tag_e5.model',\n",
    "          'model/hotel_user.model',\n",
    "          'model/restaurant_tag_e5.model',\n",
    "          'model/restaurant_user.model']\n",
    "class Recomm(object):\n",
    "    def __init__(self):\n",
    "        self.attraction_tag  = KeyedVectors.load(models[0])\n",
    "        self.attraction_user = KeyedVectors.load(models[1])\n",
    "        self.hotel_tag       = KeyedVectors.load(models[2])\n",
    "        self.hotel_user      = KeyedVectors.load(models[3])\n",
    "        self.restaurant_tag  = KeyedVectors.load(models[4])\n",
    "        self.restaurant_user = KeyedVectors.load(models[5])\n",
    "    def test(self):\n",
    "        return 'test string'\n",
    "# 선호 정보가 없을시 별점순으로 정렬\n",
    "    def rank(self, srcwv, entry, positive=[], negative=[]):\n",
    "        subwv = srcwv[entry]\n",
    "        newwv = Word2Vec(size=len(subwv[0]))\n",
    "        # add entries to new vector\n",
    "        for i in range(len(entry)):\n",
    "            newwv.wv.add(entry[i], subwv[i])\n",
    "        # add p, n to new vector\n",
    "        for w in positive:\n",
    "            newwv.wv.add(w, srcwv[w])\n",
    "        for w in negative:\n",
    "            newwv.wv.add(w, srcwv[w])\n",
    "        ranked = newwv.most_similar(positive=positive,\n",
    "                                    negative=negative,\n",
    "                                    topn=len(entry))\n",
    "        return ranked\n",
    "# tag, user 유사도 행렬 합한 wordvector로 rank하도록 수정할 것\n",
    "    def recommend(self, group, entry, positive=[], negative=[]):\n",
    "        if group == 'attraction':\n",
    "            return self.rank(self.attraction_tag, entry, positive=positive, negative=negative)\n",
    "        elif group == 'hotel':\n",
    "            return self.rank(self.hotel_tag, entry, positive=positive, negative=negative)\n",
    "        elif group == 'restaurant':\n",
    "            return self.rank(self.restaurant_tag, entry, positive=positive, negative=negative)\n",
    "        else:\n",
    "            raise Exception('Unknown group')"
   ]
  },
  {
   "cell_type": "code",
   "execution_count": null,
   "metadata": {
    "scrolled": false
   },
   "outputs": [
    {
     "name": "stderr",
     "output_type": "stream",
     "text": [
      "/home/jahn/anaconda3/lib/python3.6/site-packages/ipykernel_launcher.py:37: DeprecationWarning: Call to deprecated `most_similar` (Method will be removed in 4.0.0, use self.wv.most_similar() instead).\n",
      "/home/jahn/anaconda3/lib/python3.6/site-packages/gensim/matutils.py:737: FutureWarning: Conversion of the second argument of issubdtype from `int` to `np.signedinteger` is deprecated. In future, it will be treated as `np.int64 == np.dtype(int).type`.\n",
      "  if np.issubdtype(vec.dtype, np.int):\n"
     ]
    }
   ],
   "source": [
    "try:\n",
    "    server = zerorpc.Server(Recomm())\n",
    "    server.bind(\"tcp://0.0.0.0:4242\")\n",
    "    server.run()\n",
    "except Exception as e:\n",
    "    print('exception caught')"
   ]
  },
  {
   "cell_type": "code",
   "execution_count": null,
   "metadata": {},
   "outputs": [],
   "source": []
  }
 ],
 "metadata": {
  "kernelspec": {
   "display_name": "Python 3",
   "language": "python",
   "name": "python3"
  },
  "language_info": {
   "codemirror_mode": {
    "name": "ipython",
    "version": 3
   },
   "file_extension": ".py",
   "mimetype": "text/x-python",
   "name": "python",
   "nbconvert_exporter": "python",
   "pygments_lexer": "ipython3",
   "version": "3.6.4"
  }
 },
 "nbformat": 4,
 "nbformat_minor": 2
}
