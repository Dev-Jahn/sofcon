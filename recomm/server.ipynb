{
 "cells": [
  {
   "cell_type": "code",
   "execution_count": 1,
   "metadata": {},
   "outputs": [
    {
     "name": "stderr",
     "output_type": "stream",
     "text": [
      "C:\\Users\\CypressRH\\Anaconda3\\lib\\site-packages\\gensim\\utils.py:1209: UserWarning: detected Windows; aliasing chunkize to chunkize_serial\n",
      "  warnings.warn(\"detected Windows; aliasing chunkize to chunkize_serial\")\n"
     ]
    }
   ],
   "source": [
    "import zerorpc\n",
    "from gensim.models import Word2Vec\n",
    "from gensim.models import KeyedVectors \n",
    "list_csv = ['data/attraction_places.csv',\n",
    "           'data/hotel_places.csv',\n",
    "           'data/restaurant_places.csv']\n",
    "attraction_tag  = KeyedVectors.load('model/attraction_tag_e5.model')\n",
    "attraction_user = KeyedVectors.load('model/attraction_user.model')\n",
    "hotel_tag       = KeyedVectors.load('model/hotel_tag_e5.model')\n",
    "hotel_user      = KeyedVectors.load('model/hotel_user.model')\n",
    "restaurant_tag  = KeyedVectors.load('model/restaurant_tag_e5.model')\n",
    "restaurant_user = KeyedVectors.load('model/restaurant_user.model')\n",
    "class Recomm:\n",
    "    def test(self):\n",
    "        return 'test string'\n",
    "    def rank(srcwv, entry, positive=None, negative=None):\n",
    "        subwv = srcwv[entry]\n",
    "        newwv = Word2Vec(size=len(subwv[0]))\n",
    "        # add entries to new vector\n",
    "        for i in range(len(entry)):\n",
    "            newwv.wv.add(entry[i], subwv[i])\n",
    "        # add p, n to new vector\n",
    "        for w in positive:\n",
    "            newwv.wv.add(w, srcwv[w])\n",
    "        for w in negative:\n",
    "            newwv.wv.add(w, srcwv[w])\n",
    "        ranked = newwv.most_similar(positive=positive,\n",
    "                                  negative=negative,\n",
    "                                  topn=len(entry))\n",
    "        return ranked\n",
    "    def stop(self):\n",
    "        raise Exception"
   ]
  },
  {
   "cell_type": "code",
   "execution_count": null,
   "metadata": {
    "scrolled": false
   },
   "outputs": [],
   "source": [
    "import time\n",
    "try:\n",
    "    server = zerorpc.Server(Recomm())\n",
    "    server.bind(\"tcp://0.0.0.0:4242\")\n",
    "    server.run()\n",
    "    time.sleep(3)\n",
    "    server.stop()\n",
    "except Exception as e:\n",
    "    print('exception caught')"
   ]
  },
  {
   "cell_type": "code",
   "execution_count": null,
   "metadata": {},
   "outputs": [],
   "source": []
  }
 ],
 "metadata": {
  "kernelspec": {
   "display_name": "Python 3",
   "language": "python",
   "name": "python3"
  },
  "language_info": {
   "codemirror_mode": {
    "name": "ipython",
    "version": 3
   },
   "file_extension": ".py",
   "mimetype": "text/x-python",
   "name": "python",
   "nbconvert_exporter": "python",
   "pygments_lexer": "ipython3",
   "version": "3.6.5"
  }
 },
 "nbformat": 4,
 "nbformat_minor": 2
}
