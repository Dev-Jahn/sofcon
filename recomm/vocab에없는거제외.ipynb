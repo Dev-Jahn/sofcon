{
 "cells": [
  {
   "cell_type": "code",
   "execution_count": 32,
   "metadata": {},
   "outputs": [],
   "source": [
    "import pandas as pd\n",
    "from gensim.models import KeyedVectors \n",
    "models = ['model/attraction_tag_e5.model',\n",
    "          #'model/attraction_user.model',\n",
    "          'model/hotel_tag_e5.model',\n",
    "          #'model/hotel_user.model',\n",
    "          'model/restaurant_tag_e5.model']\n",
    "          #'model/restaurant_user.model']\n",
    "final_path = ['data/attraction_final.csv',\n",
    "              'data/hotel_dropped.csv',\n",
    "              'data/restaurant_final.csv']\n",
    "db_path = ['data/attraction_db.csv',\n",
    "           'data/hotel_db.csv',\n",
    "           'data/restaurant_db.csv']\n",
    "final_csv = []\n",
    "attraction_tag  = KeyedVectors.load(models[0])\n",
    "#attraction_user = KeyedVectors.load(models[1])\n",
    "hotel_tag       = KeyedVectors.load(models[1])\n",
    "#hotel_user      = KeyedVectors.load(models[3])\n",
    "restaurant_tag  = KeyedVectors.load(models[2])\n",
    "#restaurant_user = KeyedVectors.load(models[5])"
   ]
  },
  {
   "cell_type": "code",
   "execution_count": 33,
   "metadata": {},
   "outputs": [
    {
     "name": "stdout",
     "output_type": "stream",
     "text": [
      "34 dropped\n",
      "45 dropped\n",
      "639 dropped\n"
     ]
    }
   ],
   "source": [
    "for i in range(3):\n",
    "    df = pd.read_csv(final_path[i])\n",
    "    model = KeyedVectors.load(models[i])\n",
    "    vocabs = [item[0] for item in list(model.vocab.items())]\n",
    "    before = len(df)\n",
    "    df = df[df.placeId.apply(lambda x: str(x) in vocabs)]\n",
    "    after = len(df)\n",
    "    print(before-after, 'dropped')\n",
    "    df.to_csv(db_path[i], index=False)"
   ]
  },
  {
   "cell_type": "code",
   "execution_count": null,
   "metadata": {},
   "outputs": [],
   "source": []
  }
 ],
 "metadata": {
  "kernelspec": {
   "display_name": "Python 3",
   "language": "python",
   "name": "python3"
  },
  "language_info": {
   "codemirror_mode": {
    "name": "ipython",
    "version": 3
   },
   "file_extension": ".py",
   "mimetype": "text/x-python",
   "name": "python",
   "nbconvert_exporter": "python",
   "pygments_lexer": "ipython3",
   "version": "3.6.4"
  }
 },
 "nbformat": 4,
 "nbformat_minor": 2
}
