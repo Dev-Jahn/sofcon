{
 "cells": [
  {
   "cell_type": "code",
   "execution_count": 6,
   "metadata": {},
   "outputs": [],
   "source": [
    "from gensim.models import Word2Vec\n",
    "import pandas as pd\n",
    "import pickle\n",
    "import time\n",
    "import logging\n",
    "logging.basicConfig(\n",
    "\tformat='%(asctime)s : %(levelname)s : %(message)s',\n",
    "\tlevel=logging.INFO)\n",
    "\n",
    "workers = 4\n",
    "\n",
    "list_places = ['data/kor/attraction_places.csv',\n",
    "               'data/kor/hotel_places.csv',\n",
    "               'data/kor/restaurant_places.csv']\n",
    "list_corpus = ['corpus/user-score-based_attraction.list',\n",
    "               'corpus/user-score-based_hotel.list',\n",
    "               'corpus/user-score-based_restaurant.list']\n",
    "list_user_model = ['model/attraction_user.model',\n",
    "                   'model/hotel_user.model',\n",
    "                   'model/restaurant_user.model']\n",
    "#              size window min  workers iter sg sample\n",
    "params_user = [(300, 99999,  0, workers, 100, 1,     1),\n",
    "               (300, 99999,  0, workers, 100, 1,     1),\n",
    "               (300, 99999,  0, workers, 100, 1,     1)]"
   ]
  },
  {
   "cell_type": "code",
   "execution_count": 8,
   "metadata": {},
   "outputs": [
    {
     "ename": "FileNotFoundError",
     "evalue": "[Errno 2] No such file or directory: 'corpus/user-score-based_attraction.list'",
     "output_type": "error",
     "traceback": [
      "\u001b[1;31m---------------------------------------------------------------------------\u001b[0m",
      "\u001b[1;31mFileNotFoundError\u001b[0m                         Traceback (most recent call last)",
      "\u001b[1;32m<ipython-input-8-0160df0af2e7>\u001b[0m in \u001b[0;36m<module>\u001b[1;34m()\u001b[0m\n\u001b[0;32m      1\u001b[0m \u001b[1;32mfor\u001b[0m \u001b[0mi\u001b[0m \u001b[1;32min\u001b[0m \u001b[0mrange\u001b[0m\u001b[1;33m(\u001b[0m\u001b[1;36m3\u001b[0m\u001b[1;33m)\u001b[0m\u001b[1;33m:\u001b[0m\u001b[1;33m\u001b[0m\u001b[0m\n\u001b[0;32m      2\u001b[0m     \u001b[0mdf_place\u001b[0m \u001b[1;33m=\u001b[0m \u001b[0mpd\u001b[0m\u001b[1;33m.\u001b[0m\u001b[0mread_csv\u001b[0m\u001b[1;33m(\u001b[0m\u001b[0mlist_places\u001b[0m\u001b[1;33m[\u001b[0m\u001b[0mi\u001b[0m\u001b[1;33m]\u001b[0m\u001b[1;33m,\u001b[0m \u001b[0mnames\u001b[0m\u001b[1;33m=\u001b[0m\u001b[1;33m[\u001b[0m\u001b[1;34m'placeId'\u001b[0m\u001b[1;33m,\u001b[0m \u001b[1;34m'name'\u001b[0m\u001b[1;33m,\u001b[0m \u001b[1;34m'location'\u001b[0m\u001b[1;33m,\u001b[0m \u001b[1;34m'class'\u001b[0m\u001b[1;33m]\u001b[0m\u001b[1;33m,\u001b[0m \u001b[0mencoding\u001b[0m\u001b[1;33m=\u001b[0m\u001b[1;34m'ms949'\u001b[0m\u001b[1;33m)\u001b[0m\u001b[1;33m\u001b[0m\u001b[0m\n\u001b[1;32m----> 3\u001b[1;33m     \u001b[1;32mwith\u001b[0m \u001b[0mopen\u001b[0m\u001b[1;33m(\u001b[0m\u001b[0mlist_corpus\u001b[0m\u001b[1;33m[\u001b[0m\u001b[0mi\u001b[0m\u001b[1;33m]\u001b[0m\u001b[1;33m,\u001b[0m \u001b[1;34m'rb'\u001b[0m\u001b[1;33m)\u001b[0m \u001b[1;32mas\u001b[0m \u001b[0mf\u001b[0m\u001b[1;33m:\u001b[0m\u001b[1;33m\u001b[0m\u001b[0m\n\u001b[0m\u001b[0;32m      4\u001b[0m         \u001b[0mcorpus\u001b[0m \u001b[1;33m=\u001b[0m \u001b[0mpickle\u001b[0m\u001b[1;33m.\u001b[0m\u001b[0mload\u001b[0m\u001b[1;33m(\u001b[0m\u001b[0mf\u001b[0m\u001b[1;33m)\u001b[0m\u001b[1;33m\u001b[0m\u001b[0m\n\u001b[0;32m      5\u001b[0m     \u001b[0mstart\u001b[0m \u001b[1;33m=\u001b[0m \u001b[0mtime\u001b[0m\u001b[1;33m.\u001b[0m\u001b[0mtime\u001b[0m\u001b[1;33m(\u001b[0m\u001b[1;33m)\u001b[0m\u001b[1;33m\u001b[0m\u001b[0m\n",
      "\u001b[1;31mFileNotFoundError\u001b[0m: [Errno 2] No such file or directory: 'corpus/user-score-based_attraction.list'"
     ]
    }
   ],
   "source": [
    "# Attraction\n",
    "df_place = pd.read_csv(list_places[0], names=['placeId', 'name', 'location', 'class'], encoding='ms949')\n",
    "with open(list_corpus[0], 'rb') as f:\n",
    "    corpus = pickle.load(f)\n",
    "start = time.time()\n",
    "model = Word2Vec(corpus, *(params_users[i]))\n",
    "print(\"Elapsed time: %s sec\" % (time.time() - start),' [',place,']')\n",
    "model.wv.save(list_user_model[0])"
   ]
  },
  {
   "cell_type": "code",
   "execution_count": null,
   "metadata": {},
   "outputs": [],
   "source": [
    "# Hotel\n",
    "df_place = pd.read_csv(list_places[1], names=['placeId', 'name', 'location', 'class'], encoding='ms949')\n",
    "with open(list_corpus[1], 'rb') as f:\n",
    "    corpus = pickle.load(f)\n",
    "start = time.time()\n",
    "model = Word2Vec(corpus, *(params_users[i]))\n",
    "print(\"Elapsed time: %s sec\" % (time.time() - start),' [',place,']')\n",
    "model.wv.save(list_user_model[1])"
   ]
  },
  {
   "cell_type": "code",
   "execution_count": null,
   "metadata": {},
   "outputs": [],
   "source": [
    "# Restaurant\n",
    "df_place = pd.read_csv(list_places[2], names=['placeId', 'name', 'location', 'class'], encoding='ms949')\n",
    "with open(list_corpus[2], 'rb') as f:\n",
    "    corpus = pickle.load(f)\n",
    "start = time.time()\n",
    "model = Word2Vec(corpus, *(params_users[i]))\n",
    "print(\"Elapsed time: %s sec\" % (time.time() - start),' [',place,']')\n",
    "model.wv.save(list_user_model[2])"
   ]
  },
  {
   "cell_type": "code",
   "execution_count": 83,
   "metadata": {},
   "outputs": [
    {
     "name": "stdout",
     "output_type": "stream",
     "text": [
      "399    광화문\n",
      "Name: name, dtype: object\n",
      "223    경복궁\n",
      "Name: name, dtype: object\n",
      "281    국립현대미술관 서울관\n",
      "Name: name, dtype: object\n",
      "102    망원시장\n",
      "Name: name, dtype: object\n",
      "98    익선동한옥거리\n",
      "Name: name, dtype: object\n",
      "239    이화 벽화마을\n",
      "Name: name, dtype: object\n",
      "243    국립국악박물관\n",
      "Name: name, dtype: object\n",
      "160    국립국악원\n",
      "Name: name, dtype: object\n",
      "145    창경궁\n",
      "Name: name, dtype: object\n",
      "382    서울숲\n",
      "Name: name, dtype: object\n"
     ]
    },
    {
     "name": "stderr",
     "output_type": "stream",
     "text": [
      "/home/jahn/anaconda3/lib/python3.6/site-packages/gensim/matutils.py:737: FutureWarning: Conversion of the second argument of issubdtype from `int` to `np.signedinteger` is deprecated. In future, it will be treated as `np.int64 == np.dtype(int).type`.\n",
      "  if np.issubdtype(vec.dtype, np.int):\n"
     ]
    }
   ],
   "source": [
    "top10 = model_attr.wv.most_similar(positive=['320359','324887'], negative=['1958940'])\n",
    "for place in top10:\n",
    "    print(df_places[df_places['placeId'] == int(place[0])].name)"
   ]
  },
  {
   "cell_type": "code",
   "execution_count": null,
   "metadata": {},
   "outputs": [],
   "source": []
  }
 ],
 "metadata": {
  "kernelspec": {
   "display_name": "Python 3",
   "language": "python",
   "name": "python3"
  },
  "language_info": {
   "codemirror_mode": {
    "name": "ipython",
    "version": 3
   },
   "file_extension": ".py",
   "mimetype": "text/x-python",
   "name": "python",
   "nbconvert_exporter": "python",
   "pygments_lexer": "ipython3",
   "version": "3.6.5"
  }
 },
 "nbformat": 4,
 "nbformat_minor": 2
}
