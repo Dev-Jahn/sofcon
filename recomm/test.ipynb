{
 "cells": [
  {
   "cell_type": "code",
   "execution_count": 2,
   "metadata": {},
   "outputs": [],
   "source": [
    "import numpy as np\n",
    "import pandas as pd\n",
    "from gensim.models import Word2Vec\n",
    "from gensim.models import KeyedVectors \n",
    "import time\n",
    "list_csv = ['data/attraction_places.csv',\n",
    "           'data/hotel_places.csv',\n",
    "           'data/restaurant_places.csv']\n",
    "attraction_e3 =  KeyedVectors.load('model/attraction_tag_e3.model')\n",
    "attraction_e4 =  KeyedVectors.load('model/attraction_tag_e4.model')\n",
    "attraction_e5 =  KeyedVectors.load('model/attraction_tag_e5.model')\n",
    "#model2 =  Word2Vec().wv.load('model/eng_hotel_tag.model')\n",
    "#model3 =  Word2Vec().wv.load('model/restaurant_tag.model')"
   ]
  },
  {
   "cell_type": "code",
   "execution_count": 3,
   "metadata": {},
   "outputs": [],
   "source": [
    "entities_list = ['324890', '3808315', '590748']"
   ]
  },
  {
   "cell_type": "code",
   "execution_count": 4,
   "metadata": {},
   "outputs": [],
   "source": [
    "def rank(srcwv, entry, positive=None, negative=None):\n",
    "    subwv = srcwv[entry]\n",
    "    newwv = Word2Vec(size=len(subwv[0]))\n",
    "    # add entries to new vector\n",
    "    for i in range(len(entry)):\n",
    "        newwv.wv.add(entry[i], subwv[i])\n",
    "    # add p, n to new vector\n",
    "    for w in positive:\n",
    "        newwv.wv.add(w, srcwv[w])\n",
    "    for w in negative:\n",
    "        newwv.wv.add(w, srcwv[w])\n",
    "    rank = newwv.most_similar(positive=positive,\n",
    "                              negative=negative,\n",
    "                              topn=len(entry))\n",
    "    return rank"
   ]
  },
  {
   "cell_type": "code",
   "execution_count": 6,
   "metadata": {},
   "outputs": [
    {
     "name": "stderr",
     "output_type": "stream",
     "text": [
      "C:\\Users\\CypressRH\\Anaconda3\\lib\\site-packages\\ipykernel_launcher.py:14: DeprecationWarning: Call to deprecated `most_similar` (Method will be removed in 4.0.0, use self.wv.most_similar() instead).\n",
      "  \n",
      "C:\\Users\\CypressRH\\Anaconda3\\lib\\site-packages\\gensim\\matutils.py:737: FutureWarning: Conversion of the second argument of issubdtype from `int` to `np.signedinteger` is deprecated. In future, it will be treated as `np.int32 == np.dtype(int).type`.\n",
      "  if np.issubdtype(vec.dtype, np.int):\n"
     ]
    },
    {
     "data": {
      "text/plain": [
       "[('324890', 0.3276669383049011),\n",
       " ('3808315', 0.3103531301021576),\n",
       " ('590748', 0.2649676203727722)]"
      ]
     },
     "execution_count": 6,
     "metadata": {},
     "output_type": "execute_result"
    }
   ],
   "source": [
    "rank(attraction_e5, entities_list, positive=['320359'], negative=['10020510'])"
   ]
  },
  {
   "cell_type": "code",
   "execution_count": 100,
   "metadata": {},
   "outputs": [
    {
     "name": "stdout",
     "output_type": "stream",
     "text": [
      "positive:  ['신세계 강남점']\n",
      "negative:  []\n",
      "상위 10개 유사도\n"
     ]
    },
    {
     "name": "stderr",
     "output_type": "stream",
     "text": [
      "C:\\Users\\CypressRH\\Anaconda3\\lib\\site-packages\\gensim\\matutils.py:737: FutureWarning: Conversion of the second argument of issubdtype from `int` to `np.signedinteger` is deprecated. In future, it will be treated as `np.int32 == np.dtype(int).type`.\n",
      "  if np.issubdtype(vec.dtype, np.int):\n"
     ]
    },
    {
     "data": {
      "text/html": [
       "<div>\n",
       "<style scoped>\n",
       "    .dataframe tbody tr th:only-of-type {\n",
       "        vertical-align: middle;\n",
       "    }\n",
       "\n",
       "    .dataframe tbody tr th {\n",
       "        vertical-align: top;\n",
       "    }\n",
       "\n",
       "    .dataframe thead th {\n",
       "        text-align: right;\n",
       "    }\n",
       "</style>\n",
       "<table border=\"1\" class=\"dataframe\">\n",
       "  <thead>\n",
       "    <tr style=\"text-align: right;\">\n",
       "      <th></th>\n",
       "      <th>name</th>\n",
       "      <th>similarity</th>\n",
       "    </tr>\n",
       "  </thead>\n",
       "  <tbody>\n",
       "    <tr>\n",
       "      <th>0</th>\n",
       "      <td>현대백화점 압구정본점</td>\n",
       "      <td>0.855262</td>\n",
       "    </tr>\n",
       "    <tr>\n",
       "      <th>1</th>\n",
       "      <td>디큐브 시티</td>\n",
       "      <td>0.840707</td>\n",
       "    </tr>\n",
       "    <tr>\n",
       "      <th>2</th>\n",
       "      <td>고속터미널상가</td>\n",
       "      <td>0.815885</td>\n",
       "    </tr>\n",
       "    <tr>\n",
       "      <th>3</th>\n",
       "      <td>고투 몰</td>\n",
       "      <td>0.809688</td>\n",
       "    </tr>\n",
       "    <tr>\n",
       "      <th>4</th>\n",
       "      <td>아이파크몰</td>\n",
       "      <td>0.791184</td>\n",
       "    </tr>\n",
       "    <tr>\n",
       "      <th>5</th>\n",
       "      <td>롯데 피트인</td>\n",
       "      <td>0.783743</td>\n",
       "    </tr>\n",
       "    <tr>\n",
       "      <th>6</th>\n",
       "      <td>롯데 영플라자 명동점</td>\n",
       "      <td>0.781222</td>\n",
       "    </tr>\n",
       "    <tr>\n",
       "      <th>7</th>\n",
       "      <td>서울풍물시장</td>\n",
       "      <td>0.768870</td>\n",
       "    </tr>\n",
       "    <tr>\n",
       "      <th>8</th>\n",
       "      <td>롯데아울렛 서울역점</td>\n",
       "      <td>0.765634</td>\n",
       "    </tr>\n",
       "    <tr>\n",
       "      <th>9</th>\n",
       "      <td>굿모닝시티</td>\n",
       "      <td>0.765259</td>\n",
       "    </tr>\n",
       "  </tbody>\n",
       "</table>\n",
       "</div>"
      ],
      "text/plain": [
       "          name  similarity\n",
       "0  현대백화점 압구정본점    0.855262\n",
       "1       디큐브 시티    0.840707\n",
       "2      고속터미널상가    0.815885\n",
       "3         고투 몰    0.809688\n",
       "4        아이파크몰    0.791184\n",
       "5       롯데 피트인    0.783743\n",
       "6  롯데 영플라자 명동점    0.781222\n",
       "7       서울풍물시장    0.768870\n",
       "8   롯데아울렛 서울역점    0.765634\n",
       "9        굿모닝시티    0.765259"
      ]
     },
     "execution_count": 100,
     "metadata": {},
     "output_type": "execute_result"
    }
   ],
   "source": [
    "model = attraction_e3\n",
    "df_place = pd.read_csv(list_csv[0])\n",
    "p = ['9755552']\n",
    "n = []\n",
    "print('positive: ', [df_place[df_place['placeId']==int(i)].name_kor.tolist()[0]\n",
    "                     for i in p])\n",
    "print('negative: ', [df_place[df_place['placeId']==int(i)].name_kor.tolist()[0]\n",
    "                     for i in n])\n",
    "print('상위 10개 유사도')\n",
    "top10 = model.most_similar(positive=p, negative=n)\n",
    "cnt = 0\n",
    "result = pd.DataFrame(columns=['name', 'similarity'])\n",
    "for place in top10:\n",
    "    name = df_place[df_place['placeId'] == int(place[0])].name_kor.tolist()[0]\n",
    "    if pd.isna(name):\n",
    "        name = df_place[df_place['placeId'] == int(place[0])].name_eng.tolist()[0]\n",
    "    result.loc[cnt] = [name,place[1]]\n",
    "    cnt+=1\n",
    "result"
   ]
  }
 ],
 "metadata": {
  "kernelspec": {
   "display_name": "Python 3",
   "language": "python",
   "name": "python3"
  },
  "language_info": {
   "codemirror_mode": {
    "name": "ipython",
    "version": 3
   },
   "file_extension": ".py",
   "mimetype": "text/x-python",
   "name": "python",
   "nbconvert_exporter": "python",
   "pygments_lexer": "ipython3",
   "version": "3.6.5"
  }
 },
 "nbformat": 4,
 "nbformat_minor": 2
}
