{
 "cells": [
  {
   "cell_type": "code",
   "execution_count": 1,
   "metadata": {},
   "outputs": [],
   "source": [
    "import numpy as np\n",
    "import pandas as pd\n",
    "from gensim.models import Word2Vec\n",
    "list_places = ['data/kor/attraction_places.csv',\n",
    "               'data/kor/hotel_places.csv',\n",
    "               'data/kor/restaurant_places.csv']"
   ]
  },
  {
   "cell_type": "code",
   "execution_count": 4,
   "metadata": {},
   "outputs": [],
   "source": [
    "list_df = [pd.read_csv(csv,\n",
    "                       names=['placeId', 'name', 'location', 'class'],\n",
    "                       encoding='ms949') for csv in list_places]"
   ]
  },
  {
   "cell_type": "code",
   "execution_count": null,
   "metadata": {},
   "outputs": [],
   "source": [
    "top10 = model_attr.wv.most_similar(positive=['320359','324887'], negative=['1958940'])\n",
    "for place in top10:\n",
    "    print(df_places[df_places['placeId'] == int(place[0])].name)"
   ]
  },
  {
   "cell_type": "code",
   "execution_count": null,
   "metadata": {},
   "outputs": [],
   "source": [
    "#유의미한 태그만 필터하는 패턴\n",
    "#pattern = re.compile('MM|NNG|VA[+].*|VV[+].*|XR')"
   ]
  }
 ],
 "metadata": {
  "kernelspec": {
   "display_name": "Python 3",
   "language": "python",
   "name": "python3"
  },
  "language_info": {
   "codemirror_mode": {
    "name": "ipython",
    "version": 3
   },
   "file_extension": ".py",
   "mimetype": "text/x-python",
   "name": "python",
   "nbconvert_exporter": "python",
   "pygments_lexer": "ipython3",
   "version": "3.6.5"
  }
 },
 "nbformat": 4,
 "nbformat_minor": 2
}
