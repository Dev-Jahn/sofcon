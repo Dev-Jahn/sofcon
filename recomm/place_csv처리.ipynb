{
 "cells": [
  {
   "cell_type": "code",
   "execution_count": 52,
   "metadata": {},
   "outputs": [],
   "source": [
    "import pandas as pd\n",
    "import re\n",
    "list_csv = ['data/kor/attraction_places.csv',\n",
    "            'data/kor/hotel_places.csv',\n",
    "            'data/kor/restaurant_places.csv',\n",
    "            'data/eng/eng_attraction_places.csv',\n",
    "            'data/eng/eng_hotel_places.csv',\n",
    "            'data/eng/eng_restaurant_places.csv']\n",
    "save_csv = ['data/attraction_places.csv',\n",
    "            'data/hotel_places.csv',\n",
    "            'data/restaurant_places.csv']\n",
    "save2_csv = ['data/attraction_dropped.csv',\n",
    "             'data/hotel_dropped.csv',\n",
    "             'data/restaurant_dropped.csv']"
   ]
  },
  {
   "cell_type": "code",
   "execution_count": 3,
   "metadata": {},
   "outputs": [
    {
     "name": "stdout",
     "output_type": "stream",
     "text": [
      "561\n",
      "804\n",
      "23150\n",
      "564\n",
      "899\n",
      "12599\n"
     ]
    }
   ],
   "source": [
    "for csv in list_csv:\n",
    "    df = pd.read_csv(csv,\n",
    "                     names=['placeId', 'name_kor', 'location', 'class'],\n",
    "                     encoding='euc-kr')\n",
    "    print(len(df))"
   ]
  },
  {
   "cell_type": "code",
   "execution_count": 54,
   "metadata": {},
   "outputs": [
    {
     "name": "stdout",
     "output_type": "stream",
     "text": [
      "569\n",
      "352\n",
      "1163\n",
      "687\n",
      "23171\n",
      "18250\n"
     ]
    }
   ],
   "source": [
    "for i in range(3):\n",
    "    df_kor = pd.read_csv(list_csv[i],\n",
    "                     names=['placeId', 'name_kor', 'location', 'class'],\n",
    "                     encoding='euc-kr')\n",
    "    tmp_class = df_kor['class'][0]\n",
    "    df_eng = pd.read_csv(list_csv[i+3],\n",
    "                     names=['placeId', 'name_eng', 'location', 'class'],\n",
    "                     encoding='euc-kr')\n",
    "    df_eng = df_eng.iloc[:, [j for j, c in enumerate(df_eng.columns) if j != 4]]\n",
    "    df_eng = df_eng.drop(columns=['location', 'class'])\n",
    "    df_kor = pd.merge(df_kor, df_eng, how='outer')\n",
    "    cols = df_kor.columns.tolist()\n",
    "    cols = cols[3:4] + cols[0:2] + cols[-1:] + cols[2:3]\n",
    "    df_kor = df_kor[cols]\n",
    "    df_kor['class'] = df_kor['class'].fillna(tmp_class)\n",
    "    # 테스트용 좌표 외 drop\n",
    "    df_dropped = df_kor.dropna(subset=['location'])\n",
    "    series_match = df_dropped['location'].apply(lambda x:\n",
    "                                            re.fullmatch('[0-9]+\\.[0-9]+,[0-9]+\\.[0-9]+', x))\n",
    "    df_dropped = df_dropped[pd.notnull(series_match)]\n",
    "    ###\n",
    "    df_kor.to_csv(save_csv[i], index=False)\n",
    "    df_dropped.to_csv(save2_csv[i], index=False)\n",
    "    print(len(df_kor))\n",
    "    print(len(df_dropped))"
   ]
  },
  {
   "cell_type": "code",
   "execution_count": 51,
   "metadata": {},
   "outputs": [
    {
     "name": "stdout",
     "output_type": "stream",
     "text": [
      "전체 23171\n",
      "NA 26\n",
      "좌표 18250\n",
      "주소 4895\n"
     ]
    }
   ],
   "source": [
    "print('전체',len(df_kor))\n",
    "print('NA',len(df_kor[pd.isna(df_kor['location'])]))\n",
    "df_tmp = df_kor.dropna(subset=['location'])\n",
    "series_match = df_tmp['location'].apply(lambda x:\n",
    "                                        re.fullmatch('[0-9]+\\.[0-9]+,[0-9]+\\.[0-9]+', x))\n",
    "print('좌표',len(df_tmp[pd.notnull(series_match)]))\n",
    "print('주소',len(df_tmp[pd.isnull(series_match)]))"
   ]
  }
 ],
 "metadata": {
  "kernelspec": {
   "display_name": "Python 3",
   "language": "python",
   "name": "python3"
  },
  "language_info": {
   "codemirror_mode": {
    "name": "ipython",
    "version": 3
   },
   "file_extension": ".py",
   "mimetype": "text/x-python",
   "name": "python",
   "nbconvert_exporter": "python",
   "pygments_lexer": "ipython3",
   "version": "3.6.4"
  }
 },
 "nbformat": 4,
 "nbformat_minor": 2
}
